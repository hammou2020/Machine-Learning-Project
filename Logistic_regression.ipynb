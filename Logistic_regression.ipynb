{
 "cells": [
  {
   "cell_type": "code",
   "execution_count": 65,
   "metadata": {},
   "outputs": [],
   "source": [
    "import pandas as pd\n",
    "import string\n",
    "import nltk\n",
    "import numpy as np\n",
    "import sklearn\n",
    "import seaborn as sns\n",
    "from nltk.corpus import stopwords\n",
    "from nltk.stem import WordNetLemmatizer\n",
    "from sklearn.feature_extraction.text import CountVectorizer\n",
    "from sklearn.linear_model import LogisticRegression\n",
    "from sklearn.decomposition import PCA\n",
    "from sklearn.model_selection import train_test_split"
   ]
  },
  {
   "cell_type": "code",
   "execution_count": 2,
   "metadata": {},
   "outputs": [],
   "source": [
    "# Load dataset from metadata file\n",
    "file=open(\"/media/spaggy/New Volume/Sem VI/ML/Project/YelpZip/metadata\")\n",
    "data=file.readlines()\n",
    "file.close()\n",
    "for ind in range(len(data)):\n",
    "    data[ind]=data[ind].split()"
   ]
  },
  {
   "cell_type": "code",
   "execution_count": 3,
   "metadata": {},
   "outputs": [],
   "source": [
    "# Load reviews from reviewcontent file\n",
    "file2=open(\"/media/spaggy/New Volume/Sem VI/ML/Project/YelpZip/reviewContent\")\n",
    "text=file2.readlines()\n",
    "file2.close()\n",
    "for i in range(len(text)):\n",
    "    text[i]=text[i].split(\"\\t\")\n",
    "text=[t[3] for t in text]"
   ]
  },
  {
   "cell_type": "code",
   "execution_count": 4,
   "metadata": {
    "scrolled": true
   },
   "outputs": [],
   "source": [
    "Dataset=pd.DataFrame(data,columns=[\"user_id\",'product_id','rating','label','date'])\n",
    "Dataset[\"review_text\"]=text"
   ]
  },
  {
   "cell_type": "code",
   "execution_count": 6,
   "metadata": {
    "scrolled": true
   },
   "outputs": [],
   "source": [
    "Dataset['rating']=Dataset['rating'].astype('float')\n",
    "Dataset['date']=pd.to_datetime(Dataset['date'])\n",
    "Dataset['day']=Dataset['date'].dt.day_name()"
   ]
  },
  {
   "cell_type": "code",
   "execution_count": 7,
   "metadata": {},
   "outputs": [
    {
     "data": {
      "text/html": [
       "<div>\n",
       "<style scoped>\n",
       "    .dataframe tbody tr th:only-of-type {\n",
       "        vertical-align: middle;\n",
       "    }\n",
       "\n",
       "    .dataframe tbody tr th {\n",
       "        vertical-align: top;\n",
       "    }\n",
       "\n",
       "    .dataframe thead th {\n",
       "        text-align: right;\n",
       "    }\n",
       "</style>\n",
       "<table border=\"1\" class=\"dataframe\">\n",
       "  <thead>\n",
       "    <tr style=\"text-align: right;\">\n",
       "      <th></th>\n",
       "      <th>user_id</th>\n",
       "      <th>product_id</th>\n",
       "      <th>rating</th>\n",
       "      <th>label</th>\n",
       "      <th>date</th>\n",
       "      <th>review_text</th>\n",
       "      <th>day</th>\n",
       "    </tr>\n",
       "  </thead>\n",
       "  <tbody>\n",
       "    <tr>\n",
       "      <th>0</th>\n",
       "      <td>5044</td>\n",
       "      <td>0</td>\n",
       "      <td>1.0</td>\n",
       "      <td>-1</td>\n",
       "      <td>2014-11-16</td>\n",
       "      <td>Drinks were bad, the hot chocolate was watered...</td>\n",
       "      <td>Sunday</td>\n",
       "    </tr>\n",
       "    <tr>\n",
       "      <th>1</th>\n",
       "      <td>5045</td>\n",
       "      <td>0</td>\n",
       "      <td>1.0</td>\n",
       "      <td>-1</td>\n",
       "      <td>2014-09-08</td>\n",
       "      <td>This was the worst experience I've ever had a ...</td>\n",
       "      <td>Monday</td>\n",
       "    </tr>\n",
       "    <tr>\n",
       "      <th>2</th>\n",
       "      <td>5046</td>\n",
       "      <td>0</td>\n",
       "      <td>3.0</td>\n",
       "      <td>-1</td>\n",
       "      <td>2013-10-06</td>\n",
       "      <td>This is located on the site of the old Spruce ...</td>\n",
       "      <td>Sunday</td>\n",
       "    </tr>\n",
       "    <tr>\n",
       "      <th>3</th>\n",
       "      <td>5047</td>\n",
       "      <td>0</td>\n",
       "      <td>5.0</td>\n",
       "      <td>-1</td>\n",
       "      <td>2014-11-30</td>\n",
       "      <td>I enjoyed coffee and breakfast twice at Toast ...</td>\n",
       "      <td>Sunday</td>\n",
       "    </tr>\n",
       "    <tr>\n",
       "      <th>4</th>\n",
       "      <td>5048</td>\n",
       "      <td>0</td>\n",
       "      <td>5.0</td>\n",
       "      <td>-1</td>\n",
       "      <td>2014-08-28</td>\n",
       "      <td>I love Toast! The food choices are fantastic -...</td>\n",
       "      <td>Thursday</td>\n",
       "    </tr>\n",
       "  </tbody>\n",
       "</table>\n",
       "</div>"
      ],
      "text/plain": [
       "  user_id product_id  rating label       date  \\\n",
       "0    5044          0     1.0    -1 2014-11-16   \n",
       "1    5045          0     1.0    -1 2014-09-08   \n",
       "2    5046          0     3.0    -1 2013-10-06   \n",
       "3    5047          0     5.0    -1 2014-11-30   \n",
       "4    5048          0     5.0    -1 2014-08-28   \n",
       "\n",
       "                                         review_text       day  \n",
       "0  Drinks were bad, the hot chocolate was watered...    Sunday  \n",
       "1  This was the worst experience I've ever had a ...    Monday  \n",
       "2  This is located on the site of the old Spruce ...    Sunday  \n",
       "3  I enjoyed coffee and breakfast twice at Toast ...    Sunday  \n",
       "4  I love Toast! The food choices are fantastic -...  Thursday  "
      ]
     },
     "execution_count": 7,
     "metadata": {},
     "output_type": "execute_result"
    }
   ],
   "source": [
    "Dataset.head()"
   ]
  },
  {
   "cell_type": "markdown",
   "metadata": {},
   "source": [
    "### Split train-test dataset"
   ]
  },
  {
   "cell_type": "code",
   "execution_count": 10,
   "metadata": {},
   "outputs": [],
   "source": [
    "y=pd.DataFrame({'label':Dataset[\"label\"]})\n",
    "x=Dataset.drop(['label'],axis=1)\n",
    "X_train,X_test,y_train,y_test=train_test_split(x,y,test_size=0.3)"
   ]
  },
  {
   "cell_type": "markdown",
   "metadata": {},
   "source": [
    "### Hand Crafted Features"
   ]
  },
  {
   "cell_type": "code",
   "execution_count": 90,
   "metadata": {
    "scrolled": true
   },
   "outputs": [
    {
     "name": "stdout",
     "output_type": "stream",
     "text": [
      "-----------review_centric features extracted-------------/\n",
      "-----------user_centric features extracted-------------/\n",
      "-----------product_centric features extracted-------------/\n",
      "\n",
      "\n"
     ]
    },
    {
     "name": "stderr",
     "output_type": "stream",
     "text": [
      "/home/spaggy/.local/lib/python2.7/site-packages/ipykernel_launcher.py:23: SettingWithCopyWarning: \n",
      "A value is trying to be set on a copy of a slice from a DataFrame.\n",
      "Try using .loc[row_indexer,col_indexer] = value instead\n",
      "\n",
      "See the caveats in the documentation: http://pandas.pydata.org/pandas-docs/stable/indexing.html#indexing-view-versus-copy\n",
      "/home/spaggy/.local/lib/python2.7/site-packages/ipykernel_launcher.py:24: SettingWithCopyWarning: \n",
      "A value is trying to be set on a copy of a slice from a DataFrame.\n",
      "Try using .loc[row_indexer,col_indexer] = value instead\n",
      "\n",
      "See the caveats in the documentation: http://pandas.pydata.org/pandas-docs/stable/indexing.html#indexing-view-versus-copy\n",
      "/home/spaggy/.local/lib/python2.7/site-packages/ipykernel_launcher.py:25: SettingWithCopyWarning: \n",
      "A value is trying to be set on a copy of a slice from a DataFrame.\n",
      "Try using .loc[row_indexer,col_indexer] = value instead\n",
      "\n",
      "See the caveats in the documentation: http://pandas.pydata.org/pandas-docs/stable/indexing.html#indexing-view-versus-copy\n",
      "/home/spaggy/.local/lib/python2.7/site-packages/ipykernel_launcher.py:26: SettingWithCopyWarning: \n",
      "A value is trying to be set on a copy of a slice from a DataFrame.\n",
      "Try using .loc[row_indexer,col_indexer] = value instead\n",
      "\n",
      "See the caveats in the documentation: http://pandas.pydata.org/pandas-docs/stable/indexing.html#indexing-view-versus-copy\n"
     ]
    },
    {
     "name": "stdout",
     "output_type": "stream",
     "text": [
      "-----------review_centric features extracted-------------/\n"
     ]
    },
    {
     "name": "stderr",
     "output_type": "stream",
     "text": [
      "/home/spaggy/.local/lib/python2.7/site-packages/ipykernel_launcher.py:29: SettingWithCopyWarning: \n",
      "A value is trying to be set on a copy of a slice from a DataFrame.\n",
      "Try using .loc[row_indexer,col_indexer] = value instead\n",
      "\n",
      "See the caveats in the documentation: http://pandas.pydata.org/pandas-docs/stable/indexing.html#indexing-view-versus-copy\n",
      "/home/spaggy/.local/lib/python2.7/site-packages/ipykernel_launcher.py:30: SettingWithCopyWarning: \n",
      "A value is trying to be set on a copy of a slice from a DataFrame.\n",
      "Try using .loc[row_indexer,col_indexer] = value instead\n",
      "\n",
      "See the caveats in the documentation: http://pandas.pydata.org/pandas-docs/stable/indexing.html#indexing-view-versus-copy\n",
      "/home/spaggy/.local/lib/python2.7/site-packages/ipykernel_launcher.py:31: SettingWithCopyWarning: \n",
      "A value is trying to be set on a copy of a slice from a DataFrame.\n",
      "Try using .loc[row_indexer,col_indexer] = value instead\n",
      "\n",
      "See the caveats in the documentation: http://pandas.pydata.org/pandas-docs/stable/indexing.html#indexing-view-versus-copy\n",
      "/home/spaggy/.local/lib/python2.7/site-packages/ipykernel_launcher.py:32: SettingWithCopyWarning: \n",
      "A value is trying to be set on a copy of a slice from a DataFrame.\n",
      "Try using .loc[row_indexer,col_indexer] = value instead\n",
      "\n",
      "See the caveats in the documentation: http://pandas.pydata.org/pandas-docs/stable/indexing.html#indexing-view-versus-copy\n",
      "/home/spaggy/.local/lib/python2.7/site-packages/ipykernel_launcher.py:35: SettingWithCopyWarning: \n",
      "A value is trying to be set on a copy of a slice from a DataFrame.\n",
      "Try using .loc[row_indexer,col_indexer] = value instead\n",
      "\n",
      "See the caveats in the documentation: http://pandas.pydata.org/pandas-docs/stable/indexing.html#indexing-view-versus-copy\n"
     ]
    },
    {
     "name": "stdout",
     "output_type": "stream",
     "text": [
      "-----------user_centric features extracted-------------/\n"
     ]
    },
    {
     "name": "stderr",
     "output_type": "stream",
     "text": [
      "/home/spaggy/.local/lib/python2.7/site-packages/ipykernel_launcher.py:36: SettingWithCopyWarning: \n",
      "A value is trying to be set on a copy of a slice from a DataFrame.\n",
      "Try using .loc[row_indexer,col_indexer] = value instead\n",
      "\n",
      "See the caveats in the documentation: http://pandas.pydata.org/pandas-docs/stable/indexing.html#indexing-view-versus-copy\n",
      "/home/spaggy/.local/lib/python2.7/site-packages/ipykernel_launcher.py:37: SettingWithCopyWarning: \n",
      "A value is trying to be set on a copy of a slice from a DataFrame.\n",
      "Try using .loc[row_indexer,col_indexer] = value instead\n",
      "\n",
      "See the caveats in the documentation: http://pandas.pydata.org/pandas-docs/stable/indexing.html#indexing-view-versus-copy\n"
     ]
    },
    {
     "name": "stdout",
     "output_type": "stream",
     "text": [
      "-----------product_centric features extracted-------------/\n"
     ]
    },
    {
     "name": "stderr",
     "output_type": "stream",
     "text": [
      "/home/spaggy/.local/lib/python2.7/site-packages/ipykernel_launcher.py:38: SettingWithCopyWarning: \n",
      "A value is trying to be set on a copy of a slice from a DataFrame.\n",
      "Try using .loc[row_indexer,col_indexer] = value instead\n",
      "\n",
      "See the caveats in the documentation: http://pandas.pydata.org/pandas-docs/stable/indexing.html#indexing-view-versus-copy\n"
     ]
    }
   ],
   "source": [
    "# X_train['upper_case_word_count']=X_train['review_text'].apply(lambda x:len([y for y in x.split() if y) )\n",
    "#Train Dataset\n",
    "#Review centric features\n",
    "X_train['word_count']=X_train['review_text'].apply(lambda x: len(x.split()))\n",
    "X_train['punctuation_count']=X_train['review_text'].apply(lambda x: len(''.join(c for c in x if c in string.punctuation)))\n",
    "X_train['char_count']=X_train['review_text'].apply(lambda x: len(x))\n",
    "X_train['title_count']=X_train['review_text'].apply(lambda x: len([word for word in x.split() if word.istitle()]))\n",
    "print(\"-----------review_centric features extracted-------------/\")\n",
    "# user-centric features\n",
    "X_train['user_id_no_of_review'] = X_train.groupby('user_id')['user_id'].transform('size')\n",
    "X_train['user_id_ave_rating'] = X_train.groupby('user_id')['rating'].transform('mean')\n",
    "X_train['user_id_ave_no_words'] = X_train.groupby('user_id')['word_count'].transform('mean')\n",
    "X_train['user_id_max_review_a_day'] = X_train.groupby(['user_id','day'])['user_id'].transform('size')\n",
    "print(\"-----------user_centric features extracted-------------/\")\n",
    "#Product centric feature\n",
    "X_train['product_id_no_of_review']=X_train.groupby('product_id')['product_id'].transform('size')\n",
    "X_train['product_id_ave_rating']=X_train.groupby('product_id')['rating'].transform('mean')\n",
    "X_train['product_id_ave_no_of_words']=X_train.groupby('product_id')['word_count'].transform('mean')\n",
    "X_train['product_id_max_review_a_day']=X_train.groupby(['product_id','day'])['user_id'].transform('size')\n",
    "print(\"-----------product_centric features extracted-------------/\\n\\n\")\n",
    "\n",
    "#Test dataset\n",
    "X_test['word_count']=X_test['review_text'].apply(lambda x: len(x.split()))\n",
    "X_test['punctuation_count']=X_test['review_text'].apply(lambda x: len(''.join(c for c in x if c in string.punctuation)))\n",
    "X_test['char_count']=X_test['review_text'].apply(lambda x: len(x))\n",
    "X_test['title_count']=X_test['review_text'].apply(lambda x: len([word for word in x.split() if word.istitle()]))\n",
    "print(\"-----------review_centric features extracted-------------/\")\n",
    "# user-centric features\n",
    "X_test['user_id_no_of_review'] = X_test.groupby('user_id')['user_id'].transform('size')\n",
    "X_test['user_id_ave_rating'] = X_test.groupby('user_id')['rating'].transform('mean')\n",
    "X_test['user_id_ave_no_words'] = X_test.groupby('user_id')['word_count'].transform('mean')\n",
    "X_test['user_id_max_review_a_day'] = X_test.groupby(['user_id','day'])['user_id'].transform('size')\n",
    "print(\"-----------user_centric features extracted-------------/\")\n",
    "#Product centric feature\n",
    "X_test['product_id_no_of_review']=X_test.groupby('product_id')['product_id'].transform('size')\n",
    "X_test['product_id_ave_rating']=X_test.groupby('product_id')['rating'].transform('mean')\n",
    "X_test['product_id_ave_no_of_words']=X_test.groupby('product_id')['word_count'].transform('mean')\n",
    "X_test['product_id_max_review_a_day']=X_test.groupby(['product_id','day'])['user_id'].transform('size')\n",
    "print(\"-----------product_centric features extracted-------------/\")"
   ]
  },
  {
   "cell_type": "code",
   "execution_count": 63,
   "metadata": {},
   "outputs": [
    {
     "data": {
      "text/html": [
       "<div>\n",
       "<style scoped>\n",
       "    .dataframe tbody tr th:only-of-type {\n",
       "        vertical-align: middle;\n",
       "    }\n",
       "\n",
       "    .dataframe tbody tr th {\n",
       "        vertical-align: top;\n",
       "    }\n",
       "\n",
       "    .dataframe thead th {\n",
       "        text-align: right;\n",
       "    }\n",
       "</style>\n",
       "<table border=\"1\" class=\"dataframe\">\n",
       "  <thead>\n",
       "    <tr style=\"text-align: right;\">\n",
       "      <th></th>\n",
       "      <th>user_id</th>\n",
       "      <th>product_id</th>\n",
       "      <th>rating</th>\n",
       "      <th>date</th>\n",
       "      <th>review_text</th>\n",
       "      <th>day</th>\n",
       "      <th>word_count</th>\n",
       "      <th>punctuation_count</th>\n",
       "      <th>char_count</th>\n",
       "      <th>title_count</th>\n",
       "      <th>user_id_no_of_review</th>\n",
       "      <th>user_id_ave_rating</th>\n",
       "      <th>user_id_ave_no_words</th>\n",
       "      <th>user_id_max_review_a_day</th>\n",
       "      <th>product_id_no_of_review</th>\n",
       "      <th>product_id_ave_rating</th>\n",
       "      <th>product_id_ave_no_of_words</th>\n",
       "      <th>product_id_max_review_a_day</th>\n",
       "    </tr>\n",
       "  </thead>\n",
       "  <tbody>\n",
       "    <tr>\n",
       "      <th>497700</th>\n",
       "      <td>219499</td>\n",
       "      <td>4144</td>\n",
       "      <td>5.0</td>\n",
       "      <td>2014-05-17</td>\n",
       "      <td>The food is soooo good! Staff was very nice. T...</td>\n",
       "      <td>Saturday</td>\n",
       "      <td>37</td>\n",
       "      <td>8</td>\n",
       "      <td>202</td>\n",
       "      <td>7</td>\n",
       "      <td>2</td>\n",
       "      <td>4.500000</td>\n",
       "      <td>37.500000</td>\n",
       "      <td>1</td>\n",
       "      <td>377</td>\n",
       "      <td>3.822281</td>\n",
       "      <td>103.779841</td>\n",
       "      <td>59</td>\n",
       "    </tr>\n",
       "    <tr>\n",
       "      <th>77823</th>\n",
       "      <td>8337</td>\n",
       "      <td>710</td>\n",
       "      <td>5.0</td>\n",
       "      <td>2014-04-16</td>\n",
       "      <td>Mama's is amazing. Expect a line during peak t...</td>\n",
       "      <td>Wednesday</td>\n",
       "      <td>27</td>\n",
       "      <td>8</td>\n",
       "      <td>149</td>\n",
       "      <td>2</td>\n",
       "      <td>109</td>\n",
       "      <td>3.807339</td>\n",
       "      <td>136.183486</td>\n",
       "      <td>15</td>\n",
       "      <td>287</td>\n",
       "      <td>4.393728</td>\n",
       "      <td>86.344948</td>\n",
       "      <td>58</td>\n",
       "    </tr>\n",
       "    <tr>\n",
       "      <th>377919</th>\n",
       "      <td>193771</td>\n",
       "      <td>3237</td>\n",
       "      <td>5.0</td>\n",
       "      <td>2010-04-12</td>\n",
       "      <td>Best pie in NY.  The flavor from the ovens rea...</td>\n",
       "      <td>Monday</td>\n",
       "      <td>87</td>\n",
       "      <td>13</td>\n",
       "      <td>465</td>\n",
       "      <td>6</td>\n",
       "      <td>1</td>\n",
       "      <td>5.000000</td>\n",
       "      <td>87.000000</td>\n",
       "      <td>1</td>\n",
       "      <td>3269</td>\n",
       "      <td>3.926583</td>\n",
       "      <td>86.724686</td>\n",
       "      <td>525</td>\n",
       "    </tr>\n",
       "    <tr>\n",
       "      <th>14461</th>\n",
       "      <td>18340</td>\n",
       "      <td>114</td>\n",
       "      <td>5.0</td>\n",
       "      <td>2013-09-09</td>\n",
       "      <td>Best burger, great drinks and friendly staff.....</td>\n",
       "      <td>Monday</td>\n",
       "      <td>11</td>\n",
       "      <td>6</td>\n",
       "      <td>71</td>\n",
       "      <td>1</td>\n",
       "      <td>1</td>\n",
       "      <td>5.000000</td>\n",
       "      <td>11.000000</td>\n",
       "      <td>1</td>\n",
       "      <td>345</td>\n",
       "      <td>4.005797</td>\n",
       "      <td>112.208696</td>\n",
       "      <td>67</td>\n",
       "    </tr>\n",
       "    <tr>\n",
       "      <th>115424</th>\n",
       "      <td>82586</td>\n",
       "      <td>4363</td>\n",
       "      <td>4.0</td>\n",
       "      <td>2014-12-31</td>\n",
       "      <td>This place well-known and for a good reason. I...</td>\n",
       "      <td>Wednesday</td>\n",
       "      <td>28</td>\n",
       "      <td>4</td>\n",
       "      <td>159</td>\n",
       "      <td>3</td>\n",
       "      <td>5</td>\n",
       "      <td>4.000000</td>\n",
       "      <td>35.400000</td>\n",
       "      <td>1</td>\n",
       "      <td>836</td>\n",
       "      <td>4.250000</td>\n",
       "      <td>134.404306</td>\n",
       "      <td>110</td>\n",
       "    </tr>\n",
       "  </tbody>\n",
       "</table>\n",
       "</div>"
      ],
      "text/plain": [
       "       user_id product_id  rating       date  \\\n",
       "497700  219499       4144     5.0 2014-05-17   \n",
       "77823     8337        710     5.0 2014-04-16   \n",
       "377919  193771       3237     5.0 2010-04-12   \n",
       "14461    18340        114     5.0 2013-09-09   \n",
       "115424   82586       4363     4.0 2014-12-31   \n",
       "\n",
       "                                              review_text        day  \\\n",
       "497700  The food is soooo good! Staff was very nice. T...   Saturday   \n",
       "77823   Mama's is amazing. Expect a line during peak t...  Wednesday   \n",
       "377919  Best pie in NY.  The flavor from the ovens rea...     Monday   \n",
       "14461   Best burger, great drinks and friendly staff.....     Monday   \n",
       "115424  This place well-known and for a good reason. I...  Wednesday   \n",
       "\n",
       "        word_count  punctuation_count  char_count  title_count  \\\n",
       "497700          37                  8         202            7   \n",
       "77823           27                  8         149            2   \n",
       "377919          87                 13         465            6   \n",
       "14461           11                  6          71            1   \n",
       "115424          28                  4         159            3   \n",
       "\n",
       "        user_id_no_of_review  user_id_ave_rating  user_id_ave_no_words  \\\n",
       "497700                     2            4.500000             37.500000   \n",
       "77823                    109            3.807339            136.183486   \n",
       "377919                     1            5.000000             87.000000   \n",
       "14461                      1            5.000000             11.000000   \n",
       "115424                     5            4.000000             35.400000   \n",
       "\n",
       "        user_id_max_review_a_day  product_id_no_of_review  \\\n",
       "497700                         1                      377   \n",
       "77823                         15                      287   \n",
       "377919                         1                     3269   \n",
       "14461                          1                      345   \n",
       "115424                         1                      836   \n",
       "\n",
       "        product_id_ave_rating  product_id_ave_no_of_words  \\\n",
       "497700               3.822281                  103.779841   \n",
       "77823                4.393728                   86.344948   \n",
       "377919               3.926583                   86.724686   \n",
       "14461                4.005797                  112.208696   \n",
       "115424               4.250000                  134.404306   \n",
       "\n",
       "        product_id_max_review_a_day  \n",
       "497700                           59  \n",
       "77823                            58  \n",
       "377919                          525  \n",
       "14461                            67  \n",
       "115424                          110  "
      ]
     },
     "execution_count": 63,
     "metadata": {},
     "output_type": "execute_result"
    }
   ],
   "source": [
    "X_train.head()"
   ]
  },
  {
   "cell_type": "code",
   "execution_count": 61,
   "metadata": {},
   "outputs": [
    {
     "data": {
      "text/html": [
       "<div>\n",
       "<style scoped>\n",
       "    .dataframe tbody tr th:only-of-type {\n",
       "        vertical-align: middle;\n",
       "    }\n",
       "\n",
       "    .dataframe tbody tr th {\n",
       "        vertical-align: top;\n",
       "    }\n",
       "\n",
       "    .dataframe thead th {\n",
       "        text-align: right;\n",
       "    }\n",
       "</style>\n",
       "<table border=\"1\" class=\"dataframe\">\n",
       "  <thead>\n",
       "    <tr style=\"text-align: right;\">\n",
       "      <th></th>\n",
       "      <th>user_id</th>\n",
       "      <th>product_id</th>\n",
       "      <th>rating</th>\n",
       "      <th>date</th>\n",
       "      <th>review_text</th>\n",
       "      <th>day</th>\n",
       "    </tr>\n",
       "  </thead>\n",
       "  <tbody>\n",
       "    <tr>\n",
       "      <th>297409</th>\n",
       "      <td>5781</td>\n",
       "      <td>419</td>\n",
       "      <td>3.0</td>\n",
       "      <td>2011-04-10</td>\n",
       "      <td>I always pass by this place and finally had th...</td>\n",
       "      <td>Sunday</td>\n",
       "    </tr>\n",
       "    <tr>\n",
       "      <th>456846</th>\n",
       "      <td>219850</td>\n",
       "      <td>3859</td>\n",
       "      <td>5.0</td>\n",
       "      <td>2012-12-05</td>\n",
       "      <td>ABSOLUTE BEST FOOD I HAVE HAD IN A LONG TIME!!...</td>\n",
       "      <td>Wednesday</td>\n",
       "    </tr>\n",
       "    <tr>\n",
       "      <th>113731</th>\n",
       "      <td>57135</td>\n",
       "      <td>424</td>\n",
       "      <td>4.0</td>\n",
       "      <td>2007-07-27</td>\n",
       "      <td>Great festive atmosphere, excellent caprihnias...</td>\n",
       "      <td>Friday</td>\n",
       "    </tr>\n",
       "    <tr>\n",
       "      <th>310015</th>\n",
       "      <td>169065</td>\n",
       "      <td>2377</td>\n",
       "      <td>4.0</td>\n",
       "      <td>2013-12-09</td>\n",
       "      <td>The sandwiches are really good. Unfortunately,...</td>\n",
       "      <td>Monday</td>\n",
       "    </tr>\n",
       "    <tr>\n",
       "      <th>177212</th>\n",
       "      <td>113186</td>\n",
       "      <td>4864</td>\n",
       "      <td>4.0</td>\n",
       "      <td>2010-04-14</td>\n",
       "      <td>I went to Minetta Tavern for the first time on...</td>\n",
       "      <td>Wednesday</td>\n",
       "    </tr>\n",
       "  </tbody>\n",
       "</table>\n",
       "</div>"
      ],
      "text/plain": [
       "       user_id product_id  rating       date  \\\n",
       "297409    5781        419     3.0 2011-04-10   \n",
       "456846  219850       3859     5.0 2012-12-05   \n",
       "113731   57135        424     4.0 2007-07-27   \n",
       "310015  169065       2377     4.0 2013-12-09   \n",
       "177212  113186       4864     4.0 2010-04-14   \n",
       "\n",
       "                                              review_text        day  \n",
       "297409  I always pass by this place and finally had th...     Sunday  \n",
       "456846  ABSOLUTE BEST FOOD I HAVE HAD IN A LONG TIME!!...  Wednesday  \n",
       "113731  Great festive atmosphere, excellent caprihnias...     Friday  \n",
       "310015  The sandwiches are really good. Unfortunately,...     Monday  \n",
       "177212  I went to Minetta Tavern for the first time on...  Wednesday  "
      ]
     },
     "execution_count": 61,
     "metadata": {},
     "output_type": "execute_result"
    }
   ],
   "source": [
    "X_test.head()"
   ]
  },
  {
   "cell_type": "code",
   "execution_count": null,
   "metadata": {
    "scrolled": true
   },
   "outputs": [],
   "source": [
    "count_vect=CountVectorizer(analyzer='word',stop_words='english')\n",
    "count_vect.fit(X_train.review_text)\n",
    "X_train_count=count_vect.transform(X_train.review_text)\n",
    "X_test_count =count_vect.transform(X_test.review_text)\n",
    "\n",
    "LR= LogisticRegression()\n",
    "LR.fit(X_train_count,y_train)\n",
    "predictions_train=LR.predict(X_train_count)\n",
    "predictions_test=LR.predict(X_test_count)"
   ]
  },
  {
   "cell_type": "markdown",
   "metadata": {},
   "source": [
    "### Text Preprocessing"
   ]
  },
  {
   "cell_type": "code",
   "execution_count": 32,
   "metadata": {},
   "outputs": [],
   "source": [
    "# lowercase,remove digits,punctuations,expand contractions"
   ]
  },
  {
   "cell_type": "code",
   "execution_count": 9,
   "metadata": {},
   "outputs": [
    {
     "data": {
      "text/plain": [
       "(608598, 7)"
      ]
     },
     "execution_count": 9,
     "metadata": {},
     "output_type": "execute_result"
    }
   ],
   "source": [
    "Dataset.shape"
   ]
  },
  {
   "cell_type": "code",
   "execution_count": 74,
   "metadata": {},
   "outputs": [
    {
     "name": "stderr",
     "output_type": "stream",
     "text": [
      "/home/spaggy/.local/lib/python2.7/site-packages/sklearn/linear_model/logistic.py:433: FutureWarning: Default solver will be changed to 'lbfgs' in 0.22. Specify a solver to silence this warning.\n",
      "  FutureWarning)\n",
      "/home/spaggy/.local/lib/python2.7/site-packages/sklearn/utils/validation.py:761: DataConversionWarning: A column-vector y was passed when a 1d array was expected. Please change the shape of y to (n_samples, ), for example using ravel().\n",
      "  y = column_or_1d(y, warn=True)\n"
     ]
    }
   ],
   "source": [
    "LR= LogisticRegression()\n",
    "LR.fit(X_train_count,y_train)\n",
    "predictions_train=LR.predict(X_train_count)\n",
    "predictions_test=LR.predict(X_test_count)"
   ]
  },
  {
   "cell_type": "code",
   "execution_count": 89,
   "metadata": {},
   "outputs": [
    {
     "name": "stdout",
     "output_type": "stream",
     "text": [
      "              precision    recall  f1-score   support\n",
      "\n",
      "          -1       0.84      0.16      0.27     56071\n",
      "           1       0.89      1.00      0.94    369947\n",
      "\n",
      "   micro avg       0.89      0.89      0.89    426018\n",
      "   macro avg       0.86      0.58      0.61    426018\n",
      "weighted avg       0.88      0.89      0.85    426018\n",
      "\n",
      "              precision    recall  f1-score   support\n",
      "\n",
      "          -1       0.41      0.07      0.13     24395\n",
      "           1       0.87      0.98      0.93    158185\n",
      "\n",
      "   micro avg       0.86      0.86      0.86    182580\n",
      "   macro avg       0.64      0.53      0.53    182580\n",
      "weighted avg       0.81      0.86      0.82    182580\n",
      "\n"
     ]
    }
   ],
   "source": [
    "from sklearn.metrics import classification_report\n",
    "print(classification_report(y_train,predictions_train))\n",
    "\n",
    "print(classification_report(y_test,predictions_test))"
   ]
  },
  {
   "cell_type": "code",
   "execution_count": 86,
   "metadata": {},
   "outputs": [
    {
     "name": "stdout",
     "output_type": "stream",
     "text": [
      "0.8857888633813594\n"
     ]
    }
   ],
   "source": [
    "from sklearn.metrics import accuracy_score\n",
    "print(accuracy_score(y_train,predictions_train))"
   ]
  },
  {
   "cell_type": "code",
   "execution_count": 87,
   "metadata": {},
   "outputs": [
    {
     "name": "stdout",
     "output_type": "stream",
     "text": [
      "0.8621535765144046\n"
     ]
    }
   ],
   "source": [
    "print(accuracy_score(y_test,predictions_test))"
   ]
  },
  {
   "cell_type": "code",
   "execution_count": 79,
   "metadata": {},
   "outputs": [
    {
     "name": "stdout",
     "output_type": "stream",
     "text": [
      "              precision    recall  f1-score   support\n",
      "\n",
      "           0       0.50      1.00      0.67         1\n",
      "           1       0.00      0.00      0.00         1\n",
      "           2       1.00      0.67      0.80         3\n",
      "\n",
      "   micro avg       0.60      0.60      0.60         5\n",
      "   macro avg       0.50      0.56      0.49         5\n",
      "weighted avg       0.70      0.60      0.61         5\n",
      "\n"
     ]
    }
   ],
   "source": [
    "from sklearn.metrics import classification_report\n",
    "y_true = [0, 1, 2, 2, 2]\n",
    "y_pred = [0, 0, 2, 2, 1]\n",
    "target_names = ['class 0', 'class 1', 'class 2']\n",
    "print(classification_report(y_true, y_pred))# target_names=target_names))"
   ]
  },
  {
   "cell_type": "code",
   "execution_count": null,
   "metadata": {},
   "outputs": [],
   "source": []
  }
 ],
 "metadata": {
  "kernelspec": {
   "display_name": "Python 3",
   "language": "python",
   "name": "python3"
  },
  "language_info": {
   "codemirror_mode": {
    "name": "ipython",
    "version": 2
   },
   "file_extension": ".py",
   "mimetype": "text/x-python",
   "name": "python",
   "nbconvert_exporter": "python",
   "pygments_lexer": "ipython2",
   "version": "2.7.15+"
  }
 },
 "nbformat": 4,
 "nbformat_minor": 2
}
